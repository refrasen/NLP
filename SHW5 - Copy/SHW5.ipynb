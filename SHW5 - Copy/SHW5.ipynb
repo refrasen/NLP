{
 "cells": [
  {
   "cell_type": "markdown",
   "metadata": {},
   "source": [
    "# SHW5: WordNet\n",
    "In this homework you will be exploring WordNet by finding hyponyms of a synset throughout a text and building synset clusters.  \n",
    "\n",
    "This homework will be due **Tuesday, November 13 at 11:59pm**"
   ]
  },
  {
   "cell_type": "markdown",
   "metadata": {},
   "source": [
    "First, we'll start off by importing a few modules. We'll also be defining a few functions to parse the Wordnet files for us to use. **Please do not import any additional libraries beyond the ones below.**"
   ]
  },
  {
   "cell_type": "code",
   "execution_count": 101,
   "metadata": {},
   "outputs": [],
   "source": [
    "import numpy as np\n",
    "import os\n",
    "from IPython.display import Markdown, display\n",
    "from nltk.stem import WordNetLemmatizer\n",
    "\n",
    "\n",
    "def read_index_file(filename):\n",
    "    \n",
    "    words_to_first_synsets={}\n",
    "    first_synsets_to_words={}\n",
    "    with open(filename) as file:\n",
    "        for i in range(29):\n",
    "            file.readline()\n",
    "            \n",
    "        for line in file:\n",
    "            cols = line.rstrip().split(\" \")\n",
    "            term = cols[0]\n",
    "            p_cnt = int(cols[3], 16);\n",
    "            first_synset_index = 6+p_cnt\n",
    "\n",
    "            # A word (like \"bank\") can belong to multiple synsets, so select just one;\n",
    "            # the first is typically the most frequently used for that word\n",
    "            first_synset = cols[first_synset_index]\n",
    "            words_to_first_synsets[term] = first_synset\n",
    "\n",
    "            if first_synset not in first_synsets_to_words:\n",
    "                first_synsets_to_words[first_synset] = set()\n",
    "\n",
    "            first_synsets_to_words[first_synset].add(term)\n",
    "            \n",
    "    return words_to_first_synsets, first_synsets_to_words\n",
    "\n",
    "\n",
    "def read_data_file(filename):\n",
    "\n",
    "    hyponyms = {}\n",
    "    with open(filename) as file:\n",
    "    \n",
    "        # skip header\n",
    "        for i in range(29):\n",
    "            file.readline()\n",
    "\n",
    "        for line in file:        \n",
    "            words = []\n",
    "            cols = line.rstrip().split(\" \")\n",
    "            synset_id = cols[0]\n",
    "            numWords = int(cols[3], 16);\n",
    "\n",
    "            numptr_index = 6+((numWords-1) * 2)\n",
    "            numPtrs = int(cols[numptr_index])\n",
    "\n",
    "            for i in range(0, numPtrs):\n",
    "                pointer_symbol = cols[numptr_index+(i * 4) + 1]\n",
    "                pointed_synset = cols[numptr_index+(i * 4) + 2]\n",
    "                \n",
    "                if pointer_symbol == '~': # hyponym relation\n",
    "                    if synset_id not in hyponyms:\n",
    "                        hyponyms[synset_id] = set()\n",
    "                    hyponyms[synset_id].add(pointed_synset)\n",
    "\n",
    "    return hyponyms"
   ]
  },
  {
   "cell_type": "code",
   "execution_count": 102,
   "metadata": {},
   "outputs": [
    {
     "data": {
      "text/plain": [
       "{'bear_cub',\n",
       " 'prairie_vole',\n",
       " 'miniature_poodle',\n",
       " 'fissipedia',\n",
       " 'hinny',\n",
       " 'musteline',\n",
       " 'meadow_mouse',\n",
       " 'pye-dog',\n",
       " 'sorex_cinereus',\n",
       " 'blarina_brevicauda',\n",
       " 'gerbil',\n",
       " 'hudson_bay_collared_lemming',\n",
       " 'tube-nosed_fruit_bat',\n",
       " 'pembroke_welsh_corgi',\n",
       " 'pomeranian',\n",
       " 'pug-dog',\n",
       " 'mountain_zebra',\n",
       " 'anteater',\n",
       " 'belgian_hare',\n",
       " 'tatouay',\n",
       " 'rat_kangaroo',\n",
       " 'gelding',\n",
       " 'white_fox',\n",
       " 'flying_cat',\n",
       " 'scotch_terrier',\n",
       " 'rattus_norvegicus',\n",
       " 'prairie_marmot',\n",
       " 'bruin',\n",
       " 'staffordshire_terrier',\n",
       " 'trichosurus_vulpecula',\n",
       " 'arctic_ground_squirrel',\n",
       " 'bunny_rabbit',\n",
       " 'white-footed_mouse',\n",
       " 'woolly_mammoth',\n",
       " 'crab-eating_raccoon',\n",
       " 'nylghau',\n",
       " 'suricata_tetradactyla',\n",
       " 'weimaraner',\n",
       " 'ursus_arctos_middendorffi',\n",
       " 'greenland_caribou',\n",
       " 'dusicyon_cancrivorus',\n",
       " 'russian_wolfhound',\n",
       " 'equid',\n",
       " 'blue_point_siamese',\n",
       " 'nutria',\n",
       " 'nail-tailed_wallaby',\n",
       " 'cocker',\n",
       " 'cotswold',\n",
       " 'pocket_mouse',\n",
       " 'sled_dog',\n",
       " 'new_world_mouse',\n",
       " 'procyon_cancrivorus',\n",
       " 'spermophile',\n",
       " 'rabbit-eared_bandicoot',\n",
       " 'sheep',\n",
       " 'maned_sheep',\n",
       " 'eptesicus_serotinus',\n",
       " 'coyote',\n",
       " 'black_squirrel',\n",
       " 'marmota_flaviventris',\n",
       " 'equus_zebra_zebra',\n",
       " 'flying_fox',\n",
       " 'neomys_anomalus',\n",
       " 'rhinoceros_antiquitatis',\n",
       " 'damaraland_mole_rat',\n",
       " 'lasiurus_borealis',\n",
       " 'female_horse',\n",
       " 'lepus_americanus',\n",
       " 'opossum_rat',\n",
       " 'hydrodamalis_gigas',\n",
       " 'tortoiseshell-cat',\n",
       " 'tailless_tenrec',\n",
       " 'otter_shrew',\n",
       " 'foxhound',\n",
       " 'antelope_chipmunk',\n",
       " 'naemorhedus_goral',\n",
       " 'duck-billed_platypus',\n",
       " 'cuon_alpinus',\n",
       " 'equus_caballus_przevalskii',\n",
       " 'gulo_luscus',\n",
       " 'citellus_variegatus',\n",
       " 'eutamius_asiaticus',\n",
       " 'notoryctus_typhlops',\n",
       " 'black_buck',\n",
       " 'baronduki',\n",
       " 'hungarian_pointer',\n",
       " 'bedlington_terrier',\n",
       " 'harvest_mouse',\n",
       " 'common_racoon',\n",
       " 'mudder',\n",
       " 'gnawing_mammal',\n",
       " 'muscardinus_avellanarius',\n",
       " 'musteline_mammal',\n",
       " 'flying_phalanger',\n",
       " 'coati',\n",
       " 'lepus_californicus',\n",
       " 'fice',\n",
       " 'palm_cat',\n",
       " 'goat',\n",
       " 'musk_ox',\n",
       " 'desmodus_rotundus',\n",
       " 'cervus_unicolor',\n",
       " 'lakeland_terrier',\n",
       " 'wild_boar',\n",
       " 'tibetan_terrier',\n",
       " 'miniature_schnauzer',\n",
       " 'laughing_hyena',\n",
       " 'german_short-haired_pointer',\n",
       " 'dusky-footed_wood_rat',\n",
       " 'canid',\n",
       " 'texas_longhorn',\n",
       " 'malemute',\n",
       " 'viverricula_indica',\n",
       " 'pademelon',\n",
       " 'martes_foina',\n",
       " 'dasypus_novemcinctus',\n",
       " 'phyllostomus_hastatus',\n",
       " 'shepherd_dog',\n",
       " 'blenheim_spaniel',\n",
       " 'chlamyphorus_truncatus',\n",
       " 'agouti',\n",
       " 'elephant',\n",
       " 'welsh_terrier',\n",
       " 'basset',\n",
       " 'wood_rat',\n",
       " 'bos_taurus',\n",
       " 'vespertilio_murinus',\n",
       " 'takin',\n",
       " 'dormouse',\n",
       " 'mesocricetus_auratus',\n",
       " 'cony',\n",
       " 'wild_horse',\n",
       " 'ungulate',\n",
       " 'ungulata',\n",
       " 'old_world_rabbit',\n",
       " 'tenrec_ecaudatus',\n",
       " 'plantation_walking_horse',\n",
       " 'american_red_squirrel',\n",
       " 'mantled_ground_squirrel',\n",
       " 'wolf_cub',\n",
       " 'irish_wolfhound',\n",
       " 'pipistrellus_pipistrellus',\n",
       " 'mephitis_macroura',\n",
       " 'otter_hound',\n",
       " 'ursus_ursinus',\n",
       " 'sewellel',\n",
       " 'thalarctos_maritimus',\n",
       " 'rock_wallaby',\n",
       " 'border_collie',\n",
       " 'duplicidentata',\n",
       " 'rock_kangaroo',\n",
       " 'perognathus_flavescens',\n",
       " 'tamandua',\n",
       " 'myrmecobius_fasciatus',\n",
       " 'marco_polo_sheep',\n",
       " 'nail-tailed_kangaroo',\n",
       " 'collie',\n",
       " 'camelopard',\n",
       " 'synercus_caffer',\n",
       " 'thomomys_bottae',\n",
       " 'mustela_nigripes',\n",
       " 'bison',\n",
       " 'quarter_horse',\n",
       " 'stirk',\n",
       " 'ursus_thibetanus',\n",
       " 'polecat',\n",
       " 'cur',\n",
       " 'marsupial_mole',\n",
       " 'american_antelope',\n",
       " 'gerbille',\n",
       " 'antrozous_pallidus',\n",
       " 'wirehaired_terrier',\n",
       " 'mule_deer',\n",
       " 'babiroussa',\n",
       " 'hartebeest',\n",
       " 'wolf',\n",
       " 'mouflon',\n",
       " 'proteles_cristata',\n",
       " 'kodiak_bear',\n",
       " 'myocastor_coypus',\n",
       " 'papillon',\n",
       " 'fisher_cat',\n",
       " 'canis_lupus',\n",
       " 'masked_shrew',\n",
       " 'manchester_terrier',\n",
       " 'giraffe',\n",
       " 'gaur',\n",
       " 'napu',\n",
       " 'tamias_striatus',\n",
       " 'vole',\n",
       " 'coon_cat',\n",
       " 'addax',\n",
       " 'native_bear',\n",
       " 'bengal_tiger',\n",
       " 'terrier',\n",
       " 'crab-eating_opossum',\n",
       " 'calico_cat',\n",
       " 'tapirus_terrestris',\n",
       " 'richardson_vole',\n",
       " 'blacktail_prairie_dog',\n",
       " 'mus_musculus',\n",
       " 'pooch',\n",
       " 'musk_kangaroo',\n",
       " 'bat',\n",
       " 'unguiculate_mammal',\n",
       " 'spruce_squirrel',\n",
       " 'virginia_deer',\n",
       " 'mountain_sheep',\n",
       " 'potos_flavus',\n",
       " 'pichiciego',\n",
       " 'european_water_shrew',\n",
       " 'nine-banded_armadillo',\n",
       " 'vulpes_fulva',\n",
       " 'silky_terrier',\n",
       " 'bull_mastiff',\n",
       " 'neotoma_cinerea',\n",
       " 'shih-tzu',\n",
       " 'thomomys_talpoides',\n",
       " 'hedgehog',\n",
       " 'guard_dog',\n",
       " 'paca',\n",
       " 'syrian_hamster',\n",
       " 'bernese_mountain_dog',\n",
       " 'bilby',\n",
       " 'brown_bear',\n",
       " 'palfrey',\n",
       " 'ovis_vignei',\n",
       " 'moo-cow',\n",
       " 'appenzeller',\n",
       " 'equus_quagga',\n",
       " 'riding_horse',\n",
       " 'billy_goat',\n",
       " 'cinnamon_bear',\n",
       " 'arui',\n",
       " 'genetta_genetta',\n",
       " 'cayuse',\n",
       " 'tolypeutes_tricinctus',\n",
       " 'alaskan_brown_bear',\n",
       " 'pipistrellus_subflavus',\n",
       " 'american_elk',\n",
       " 'ammotragus_lervia',\n",
       " 'peba',\n",
       " 'steenbok',\n",
       " 'potoroo',\n",
       " 'freetail',\n",
       " 'jackass_bat',\n",
       " 'tamandu',\n",
       " 'canada_porcupine',\n",
       " 'taurotragus_derbianus',\n",
       " 'even-toed_ungulate',\n",
       " 'livestock',\n",
       " 'sea_otter',\n",
       " 'odocoileus_hemionus_columbianus',\n",
       " 'lycaon_pictus',\n",
       " 'frosted_bat',\n",
       " 'microbat',\n",
       " 'female_mammal',\n",
       " 'miniature_pinscher',\n",
       " 'striped_squirrel',\n",
       " 'columbian_mammoth',\n",
       " 'shrewmouse',\n",
       " 'angora_rabbit',\n",
       " 'yorkshire_terrier',\n",
       " 'hereford',\n",
       " 'kangaroo_hare',\n",
       " 'kobus_kob',\n",
       " 'american_buffalo',\n",
       " 'deerhound',\n",
       " 'coati-mondi',\n",
       " 'ox',\n",
       " 'mammut_americanum',\n",
       " 'egyptian_cat',\n",
       " 'water_shrew',\n",
       " 'mongoose',\n",
       " 'collared_pika',\n",
       " 'vampire_bat',\n",
       " 'jird',\n",
       " 'equine',\n",
       " 'labrador_retriever',\n",
       " 'civet_cat',\n",
       " 'pocketed_freetail_bat',\n",
       " 'mithan',\n",
       " 'apodemus_sylvaticus',\n",
       " 'eastern_grey_squirrel',\n",
       " 'hoary_marmot',\n",
       " 'kangaroo_rat',\n",
       " 'plecotus_townsendi',\n",
       " 'french_bulldog',\n",
       " 'orange_horseshoe_bat',\n",
       " 'aardwolf',\n",
       " 'panthera_pardus',\n",
       " 'sciurus_niger',\n",
       " 'bos_banteng',\n",
       " 'peromyscus_gossypinus',\n",
       " 'european_wood_mouse',\n",
       " 'southeastern_pocket_gopher',\n",
       " 'vulpes_vulpes',\n",
       " 'synaptomys_borealis',\n",
       " 'japanese_spaniel',\n",
       " 'american_water_shrew',\n",
       " 'audad',\n",
       " 'river_horse',\n",
       " 'walrus',\n",
       " 'dwarf_buffalo',\n",
       " 'oreamnos_americanus',\n",
       " 'cavia_porcellus',\n",
       " 'trotting_horse',\n",
       " 'ursus_horribilis',\n",
       " 'chevrotain',\n",
       " 'kit_fox',\n",
       " 'yellowbelly_marmot',\n",
       " 'warragal',\n",
       " 'saiga',\n",
       " 'spiny_anteater',\n",
       " 'remount',\n",
       " 'brown_lemming',\n",
       " 'babirussa',\n",
       " 'equus_grevyi',\n",
       " 'ovis_aries',\n",
       " 'groundhog',\n",
       " 'ovibos_moschatus',\n",
       " 'anoa_depressicornis',\n",
       " 'domestic_cat',\n",
       " 'western_gray_squirrel',\n",
       " 'cairn_terrier',\n",
       " 'mare',\n",
       " 'ferret',\n",
       " 'burunduki',\n",
       " 'manx_cat',\n",
       " 'damaliscus_lunatus',\n",
       " 'tayassu_tajacu',\n",
       " 'shorthorn',\n",
       " 'mammuthus_primigenius',\n",
       " 'leveret',\n",
       " 'caribou',\n",
       " 'fruit_bat',\n",
       " 'pinniped',\n",
       " 'tibetan_mastiff',\n",
       " 'sarcophilus_hariisi',\n",
       " 'gemsbok',\n",
       " 'priodontes_giganteus',\n",
       " 'newfoundland_dog',\n",
       " 'airedale',\n",
       " 'english_toy_spaniel',\n",
       " 'parka_squirrel',\n",
       " 'eastern_fox_squirrel',\n",
       " 'black_cat',\n",
       " 'mountain_viscacha',\n",
       " 'atlantic_walrus',\n",
       " 'tadarida_brasiliensis',\n",
       " 'grey_lemming',\n",
       " 'dachshund',\n",
       " 'impala',\n",
       " 'lapdog',\n",
       " 'odocoileus_virginianus',\n",
       " 'walker_foxhound',\n",
       " 'mastiff',\n",
       " 'plott_hound',\n",
       " 'mouser',\n",
       " 'tadirida_femorosacca',\n",
       " 'komondor',\n",
       " 'tube-nosed_bat',\n",
       " 'vesper_mouse',\n",
       " 'plains_pocket_gopher',\n",
       " 'rock_squirrel',\n",
       " 'eutamius_sibiricus',\n",
       " 'tree_sloth',\n",
       " 'fox_squirrel',\n",
       " 'imperial_mammoth',\n",
       " 'addax_nasomaculatus',\n",
       " 'toy_manchester_terrier',\n",
       " 'mastodont',\n",
       " 'caracul',\n",
       " 'seizure-alert_dog',\n",
       " 'old_english_sheepdog',\n",
       " 'entlebucher',\n",
       " 'alley_cat',\n",
       " 'malamute',\n",
       " 'domestic_sheep',\n",
       " 'waterbuck',\n",
       " 'dama_dama',\n",
       " 'macrotis_lagotis',\n",
       " 'gulo_gulo',\n",
       " 'sealyham_terrier',\n",
       " 'true_vampire_bat',\n",
       " 'binturong',\n",
       " 'malayan_tapir',\n",
       " 'nilgai',\n",
       " 'sassaby',\n",
       " 'cat_squirrel',\n",
       " 'pteropus_capestratus',\n",
       " 'basenji',\n",
       " 'sausage_hound',\n",
       " 'striped_skunk',\n",
       " 'charronia_flavigula',\n",
       " 'cuscus',\n",
       " 'springbuck',\n",
       " 'trade_rat',\n",
       " 'small_civet',\n",
       " 'glaucomys_sabrinus',\n",
       " 'big-eared_bat',\n",
       " 'skunk_bear',\n",
       " 'flying_opossum',\n",
       " 'swamp_rabbit',\n",
       " 'babirusa',\n",
       " 'ant_bear',\n",
       " 'mountain_nyala',\n",
       " 'hampshire_down',\n",
       " 'tree_wallaby',\n",
       " 'wallaby',\n",
       " 'pangolin',\n",
       " 'kine',\n",
       " 'australian_terrier',\n",
       " 'sabertooth',\n",
       " 'imperial_elephant',\n",
       " 'monkey_dog',\n",
       " 'dingo',\n",
       " 'western_grey_squirrel',\n",
       " 'antelope',\n",
       " 'house_cat',\n",
       " 'meerkat',\n",
       " 'woodchuck',\n",
       " 'mesohippus',\n",
       " 'bullterrier',\n",
       " 'beef',\n",
       " 'crab-eating_dog',\n",
       " 'potos_caudivolvulus',\n",
       " 'bear_cat',\n",
       " 'giraffa_camelopardalis',\n",
       " 'canis_familiaris',\n",
       " 'silver_fox',\n",
       " 'pinscher',\n",
       " 'phenacomys',\n",
       " 'poodle_dog',\n",
       " 'tamarao',\n",
       " 'sciurus_griseus',\n",
       " 'new_world_tapir',\n",
       " 'ursus_americanus',\n",
       " 'platypus',\n",
       " 'kangaroo_mouse',\n",
       " 'pekingese',\n",
       " 'pine_mouse',\n",
       " 'dasyurus_quoll',\n",
       " 'panthera_tigris',\n",
       " 'cabassous_unicinctus',\n",
       " 'he-goat',\n",
       " 'brush_kangaroo',\n",
       " 'kangaroo',\n",
       " 'european_brown_bat',\n",
       " 'mammuthus_columbi',\n",
       " 'bouvier_des_flandres',\n",
       " 'budorcas_taxicolor',\n",
       " 'poodle',\n",
       " 'american_bison',\n",
       " 'hooded_skunk',\n",
       " 'camelus_dromedarius',\n",
       " 'uintathere',\n",
       " 'herpestes_ichneumon',\n",
       " 'pentail',\n",
       " 'guanaco',\n",
       " 'race_horse',\n",
       " 'wolf_pup',\n",
       " 'chrysanthemum_dog',\n",
       " 'rat',\n",
       " 'florida_water_rat',\n",
       " 'irish_water_spaniel',\n",
       " 'argali',\n",
       " \"grevy's_zebra\",\n",
       " 'goral',\n",
       " 'bull',\n",
       " 'slender-tailed_meerkat',\n",
       " 'abyssinian_cat',\n",
       " 'springbok',\n",
       " 'wild_ox',\n",
       " 'wolfhound',\n",
       " 'pie-dog',\n",
       " 'antilope_cervicapra',\n",
       " 'moschus_moschiferus',\n",
       " 'carnivorous_bat',\n",
       " 'viverricula_malaccensis',\n",
       " 'working_dog',\n",
       " 'tamarau',\n",
       " 'rangifer_arcticus',\n",
       " 'nasua_narica',\n",
       " 'tragelaphus_imberbis',\n",
       " 'rangifer_tarandus',\n",
       " 'woolly_rhinoceros',\n",
       " 'jerboa_rat',\n",
       " 'marsh_hare',\n",
       " 'norfolk_terrier',\n",
       " 'high_stepper',\n",
       " 'megatherian',\n",
       " 'cave_bat',\n",
       " 'dasyurid_marsupial',\n",
       " 'jerboa',\n",
       " 'wire-haired_fox_terrier',\n",
       " 'macropus_giganteus',\n",
       " 'studhorse',\n",
       " 'melursus_ursinus',\n",
       " 'hyemoschus_aquaticus',\n",
       " 'tragelaphus_scriptus',\n",
       " 'guide_dog',\n",
       " 'belgian_sheepdog',\n",
       " 'spanish_pointer',\n",
       " 'honey_badger',\n",
       " 'three-banded_armadillo',\n",
       " 'perognathus_flavus',\n",
       " 'tennessee_walking_horse',\n",
       " 'tamiasciurus_hudsonicus',\n",
       " 'lepus_townsendi',\n",
       " 'staffordshire_bull_terrier',\n",
       " 'ursus_middendorffi',\n",
       " 'echidna',\n",
       " 'douglas_squirrel',\n",
       " 'sus_scrofa',\n",
       " 'vicugna_vicugna',\n",
       " 'bloodhound',\n",
       " 'burro_deer',\n",
       " 'coydog',\n",
       " 'canis_aureus',\n",
       " 'mastodon',\n",
       " 'giant_anteater',\n",
       " 'lippizaner',\n",
       " 'malinois',\n",
       " 'cuniculus_paca',\n",
       " 'tayassu_pecari',\n",
       " 'murine',\n",
       " 'adenota_vardoni',\n",
       " 'blue_fox',\n",
       " 'tragelaphus_strepsiceros',\n",
       " 'spindle_horn',\n",
       " 'crow-bait',\n",
       " 'antelope_squirrel',\n",
       " 'american_black_bear',\n",
       " 'equus_caballus_gomelini',\n",
       " 'ayrshire',\n",
       " 'mapinguari',\n",
       " 'ailurus_fulgens',\n",
       " 'puku',\n",
       " 'beef_cattle',\n",
       " 'lionet',\n",
       " 'unai',\n",
       " 'silver-tip',\n",
       " 'bibos_frontalis',\n",
       " 'sylvilagus_palustris',\n",
       " 'blacktail',\n",
       " 'gnu_goat',\n",
       " 'tragelaphus_buxtoni',\n",
       " 'capreolus_capreolus',\n",
       " 'cacomistle',\n",
       " 'vespertilian_bat',\n",
       " 'redback_vole',\n",
       " 'greater_swiss_mountain_dog',\n",
       " 'gerenuk',\n",
       " 'hazel_mouse',\n",
       " 'bubalus_bubalis',\n",
       " 'ondatra_zibethica',\n",
       " 'harness_horse',\n",
       " 'tragulus_javanicus',\n",
       " 'great_pyrenees',\n",
       " 'tabby_cat',\n",
       " 'capra_ibex',\n",
       " 'megabat',\n",
       " 'kuvasz',\n",
       " 'lion_cub',\n",
       " 'two-year-old_horse',\n",
       " 'boarhound',\n",
       " 'west_highland_white_terrier',\n",
       " 'mouse-eared_bat',\n",
       " 'cetacean_mammal',\n",
       " 'she-goat',\n",
       " 'prairie_dog',\n",
       " 'glaucomys_volans',\n",
       " 'hydrochoerus_hydrochaeris',\n",
       " 'coonhound',\n",
       " 'palm_civet',\n",
       " 'cow',\n",
       " 'potto',\n",
       " 'common_raccoon',\n",
       " 'hyrax',\n",
       " 'martes_martes',\n",
       " 'wire-haired_pointing_griffon',\n",
       " 'marmota_caligata',\n",
       " 'longhorn',\n",
       " 'sussex_spaniel',\n",
       " 'round-tailed_muskrat',\n",
       " 'didelphis_virginiana',\n",
       " 'fairy_armadillo',\n",
       " 'cynopterus_sphinx',\n",
       " 'rhinoceros_unicornis',\n",
       " 'indian_mongoose',\n",
       " 'roebuck',\n",
       " 'diceros_simus',\n",
       " 'pembroke',\n",
       " 'cryptotis_parva',\n",
       " 'beech_marten',\n",
       " 'souslik',\n",
       " 'american_mastodon',\n",
       " 'aberdeen_angus',\n",
       " 'mule',\n",
       " 'fallow_deer',\n",
       " 'peromyscus_leucopus',\n",
       " 'cynomys_gunnisoni',\n",
       " 'italian_greyhound',\n",
       " 'long-eared_bat',\n",
       " 'boocercus_eurycerus',\n",
       " \"steller's_sea_cow\",\n",
       " 'aquatic_mammal',\n",
       " 'standard_schnauzer',\n",
       " 'arctic_fox',\n",
       " \"przewalski's_horse\",\n",
       " 'silky_pocket_mouse',\n",
       " 'camel',\n",
       " 'european_rabbit',\n",
       " 'sigmodon_hispidus',\n",
       " 'artiodactyl_mammal',\n",
       " 'free-tailed_bat',\n",
       " 'boston_terrier',\n",
       " 'oryctolagus_cuniculus',\n",
       " 'chiacoan_peccary',\n",
       " 'pied_lemming',\n",
       " 'warrigal',\n",
       " 'litocranius_walleri',\n",
       " 'standard_poodle',\n",
       " 'coon_bear',\n",
       " 'tennessee_walker',\n",
       " 'large_civet',\n",
       " 'dairy_cattle',\n",
       " 'leonberg',\n",
       " 'cocker_spaniel',\n",
       " 'baiomys_taylori',\n",
       " \"dall's_sheep\",\n",
       " 'elaphure',\n",
       " 'stone_marten',\n",
       " 'tusker',\n",
       " 'lemmus_trimucronatus',\n",
       " 'jumping_mouse',\n",
       " 'black_angus',\n",
       " 'rhino',\n",
       " 'anoa',\n",
       " 'milcher',\n",
       " 'exmoor',\n",
       " 'wisent',\n",
       " 'whitetail_prairie_dog',\n",
       " 'canecutter',\n",
       " 'choeronycteris_mexicana',\n",
       " 'leporide',\n",
       " 'taira',\n",
       " 'airedale_terrier',\n",
       " 'jackrabbit',\n",
       " 'anoa_mindorensis',\n",
       " 'loxodonta_africana',\n",
       " 'proboscidian',\n",
       " 'euarctos_americanus',\n",
       " 'pen-tailed_tree_shrew',\n",
       " 'boselaphus_tragocamelus',\n",
       " 'javelina',\n",
       " 'merino_sheep',\n",
       " 'milch_cow',\n",
       " 'clumber',\n",
       " 'pronghorn',\n",
       " 'desert_rat',\n",
       " 'alopex_lagopus',\n",
       " 'mastiff_bat',\n",
       " 'pygmy_mouse',\n",
       " 'mediterranean_water_shrew',\n",
       " 'dandie_dinmont_terrier',\n",
       " 'collared_peccary',\n",
       " 'retriever',\n",
       " 'silvertip',\n",
       " 'rocky_mountain_goat',\n",
       " 'bibos_gaurus',\n",
       " 'eohippus',\n",
       " 'scaly_anteater',\n",
       " 'peromyscus_eremicus',\n",
       " 'sheepdog',\n",
       " 'norwegian_elkhound',\n",
       " 'sika',\n",
       " 'american_water_spaniel',\n",
       " 'ord_kangaroo_rat',\n",
       " 'fitch',\n",
       " 'koala',\n",
       " 'ice_bear',\n",
       " 'pocketed_bat',\n",
       " 'american_staffordshire_terrier',\n",
       " 'rice_rat',\n",
       " 'oryzomys_palustris',\n",
       " 'honey_bear',\n",
       " 'broncho',\n",
       " 'neofiber_alleni',\n",
       " 'ornithorhynchus_anatinus',\n",
       " 'rhinoceros',\n",
       " 'english_springer_spaniel',\n",
       " 'sloth_bear',\n",
       " 'house_mouse',\n",
       " 'didelphis_marsupialis',\n",
       " 'abyssinian',\n",
       " 'whiteface',\n",
       " 'cyclopes_didactylus',\n",
       " 'armadillo',\n",
       " 'black-and-tan_terrier',\n",
       " 'bronco',\n",
       " 'giant_panda',\n",
       " 'marsupial_mouse',\n",
       " 'giant_eland',\n",
       " 'diphylla_ecaudata',\n",
       " 'dipodomys_phillipsii',\n",
       " 'doberman',\n",
       " 'burmeisteria_retusa',\n",
       " 'cave_myotis',\n",
       " 'sirenian_mammal',\n",
       " 'pinnatiped',\n",
       " 'koala_bear',\n",
       " 'king_charles_spaniel',\n",
       " 'ringtail',\n",
       " 'brush-tail_porcupine',\n",
       " 'great_grey_kangaroo',\n",
       " 'viverrine_mammal',\n",
       " 'hog-nosed_skunk',\n",
       " 'sambar',\n",
       " 'gazelle',\n",
       " 'urial',\n",
       " 'new_world_porcupine',\n",
       " 'stag',\n",
       " 'pariah_dog',\n",
       " 'little_spotted_skunk',\n",
       " 'grizzly',\n",
       " 'gray_wolf',\n",
       " 'loir',\n",
       " \"miner's_cat\",\n",
       " 'chetah',\n",
       " 'perissodactyl',\n",
       " 'badger_skunk',\n",
       " 'viverrine',\n",
       " 'dun',\n",
       " 'vespertilionid',\n",
       " 'two_year_old',\n",
       " 'varying_hare',\n",
       " 'koudou',\n",
       " 'roe_deer',\n",
       " 'bull_terrier',\n",
       " 'wildebeest',\n",
       " 'dipodomys_ordi',\n",
       " 'gun_dog',\n",
       " 'apar',\n",
       " 'selenarctos_thibetanus',\n",
       " 'wood_pussy',\n",
       " 'hippopotamus',\n",
       " 'hognose_bat',\n",
       " 'brussels_griffon',\n",
       " 'kobus_leche',\n",
       " 'crab-eating_fox',\n",
       " 'peccary',\n",
       " 'groenendael',\n",
       " 'rattus_rattus',\n",
       " 'grison_vittatus',\n",
       " 'taurotragus_oryx',\n",
       " 'tragelaphus_angasi',\n",
       " 'shetland_sheepdog',\n",
       " 'plains_pocket_mouse',\n",
       " 'antilocapra_americana',\n",
       " 'rottweiler',\n",
       " 'chinchillon',\n",
       " 'serotine',\n",
       " 'pachyderm',\n",
       " 'ursine_dasyure',\n",
       " 'brabancon_griffon',\n",
       " 'ochotona_princeps',\n",
       " 'ovis_canadensis',\n",
       " 'tapir',\n",
       " 'new_world_anteater',\n",
       " 'procavia_capensis',\n",
       " 'dog',\n",
       " 'shetland_sheep_dog',\n",
       " 'pony',\n",
       " 'texas_armadillo',\n",
       " 'pika',\n",
       " 'steeplechaser',\n",
       " 'hackee',\n",
       " 'rupicapra_rupicapra',\n",
       " 'grison',\n",
       " 'ailuropoda_melanoleuca',\n",
       " 'raccoon_fox',\n",
       " 'leporid_mammal',\n",
       " 'eastern_dasyure',\n",
       " 'giant_kangaroo',\n",
       " 'hognosed_skunk',\n",
       " 'heifer',\n",
       " 'elkhound',\n",
       " 'citellus_citellus',\n",
       " 'sea_cow',\n",
       " 'erinaceus_europaeus',\n",
       " 'indian_buffalo',\n",
       " 'racehorse',\n",
       " 'gray_fox',\n",
       " 'nyctereutes_procyonides',\n",
       " 'ibex',\n",
       " 'archidiskidon_imperator',\n",
       " 'english_bulldog',\n",
       " 'little_chief_hare',\n",
       " 'great_anteater',\n",
       " 'viscacha',\n",
       " 'placental_mammal',\n",
       " 'banded_palm_civet',\n",
       " 'sciurus_carolinensis',\n",
       " 'western_big-eared_bat',\n",
       " 'tapirus_indicus',\n",
       " 'crocuta_crocuta',\n",
       " 'cricetus_cricetus',\n",
       " 'tom',\n",
       " 'german_shepherd',\n",
       " 'mountain_goat',\n",
       " 'sporting_dog',\n",
       " 'cat',\n",
       " 'liomys_irroratus',\n",
       " 'whistling_marmot',\n",
       " 'placental',\n",
       " 'peromyscus_maniculatus',\n",
       " 'mouse_deer',\n",
       " 'tiger_cub',\n",
       " 'urocyon_cinereoargenteus',\n",
       " 'macropus_agiles',\n",
       " 'buffalo',\n",
       " 'cavia_cobaya',\n",
       " 'metatherian',\n",
       " 'spilogale_putorius',\n",
       " 'wood-rat',\n",
       " 'hyaena',\n",
       " 'white_tail',\n",
       " 'dik-dik',\n",
       " 'foulmart',\n",
       " 'wild_sheep',\n",
       " 'red-backed_mouse',\n",
       " 'american_harvest_mouse',\n",
       " 'taguan',\n",
       " 'odobenus_rosmarus',\n",
       " 'barking_deer',\n",
       " 'welsh_black',\n",
       " 'bos_indicus',\n",
       " 'mustela_putorius',\n",
       " 'plantigrade',\n",
       " 'pit_bull_terrier',\n",
       " 'german_shepherd_dog',\n",
       " 'pouched_mammal',\n",
       " 'bushbuck',\n",
       " 'little_brown_bat',\n",
       " 'wild_goat',\n",
       " 'palomino',\n",
       " 'northern_mammoth',\n",
       " 'welsh_springer_spaniel',\n",
       " 'quagga',\n",
       " 'american_flying_squirrel',\n",
       " 'arctictis_bintourong',\n",
       " 'red_squirrel',\n",
       " 'syrian_bear',\n",
       " 'longwool',\n",
       " 'aurochs',\n",
       " 'spotted_hyena',\n",
       " 'wild_dog',\n",
       " 'meadow_vole',\n",
       " 'mouse_hare',\n",
       " 'pacer',\n",
       " 'sow',\n",
       " 'panda_bear',\n",
       " 'yellow-throated_marten',\n",
       " 'meriones_unguiculatus',\n",
       " 'peccari_angulatus',\n",
       " 'feline',\n",
       " 'dasyurid',\n",
       " 'field_spaniel',\n",
       " 'southern_bog_lemming',\n",
       " 'cavy',\n",
       " 'pocket_gopher',\n",
       " 'german_police_dog',\n",
       " 'skye_terrier',\n",
       " 'tree_squirrel',\n",
       " 'japanese_deer',\n",
       " 'tasmanian_tiger',\n",
       " 'ovis_poli',\n",
       " 'pacific_walrus',\n",
       " 'keeshond',\n",
       " 'barren_ground_caribou',\n",
       " 'leaf-nosed_bat',\n",
       " 'rocky_mountain_sheep',\n",
       " 'plantigrade_mammal',\n",
       " 'moose',\n",
       " 'eurasian_hamster',\n",
       " 'domestic_dog',\n",
       " 'ibizan_podenco',\n",
       " 'wether',\n",
       " 'holstein-friesian',\n",
       " \"burchell's_zebra\",\n",
       " 'acinonyx_jubatus',\n",
       " 'american_foxhound',\n",
       " 'northern_flying_squirrel',\n",
       " 'briard',\n",
       " 'fieldmouse',\n",
       " 'lama_pacos',\n",
       " 'sennenhunde',\n",
       " 'scottie',\n",
       " 'microtus_richardsoni',\n",
       " 'american_marten',\n",
       " 'northern_pocket_gopher',\n",
       " 'snowshoe_rabbit',\n",
       " 'brush_wolf',\n",
       " 'ground_squirrel',\n",
       " 'maltese_terrier',\n",
       " 'choloepus_hoffmanni',\n",
       " 'saddle_horse',\n",
       " 'mierkat',\n",
       " 'holstein',\n",
       " 'tsine',\n",
       " 'indian_elephant',\n",
       " 'strand_wolf',\n",
       " 'grasshopper_mouse',\n",
       " 'ichneumon',\n",
       " 'camelus_bactrianus',\n",
       " 'three-year-old_horse',\n",
       " \"pere_david's_deer\",\n",
       " 'lagostomus_maximus',\n",
       " 'prairie_wolf',\n",
       " 'st_bernard',\n",
       " 'ruminant',\n",
       " 'crowbait',\n",
       " 'toy_manchester',\n",
       " 'orycteropus_afer',\n",
       " 'citellus_leucurus',\n",
       " 'mephitis_mephitis',\n",
       " 'dachsie',\n",
       " 'musk_sheep',\n",
       " 'santa_gertrudis',\n",
       " 'hyaena_hyaena',\n",
       " 'gee-gee',\n",
       " 'liger',\n",
       " 'tragelaphus_eurycerus',\n",
       " 'walking_horse',\n",
       " 'white_rhinoceros',\n",
       " 'bighorn_sheep',\n",
       " 'badger_dog',\n",
       " 'tragulus_kanchil',\n",
       " 'smooth-haired_fox_terrier',\n",
       " 'striped_hyena',\n",
       " 'phalanger',\n",
       " 'toy_terrier',\n",
       " 'tamiasciurus_douglasi',\n",
       " 'bactrian_camel',\n",
       " 'white-tailed_deer',\n",
       " 'great_dane',\n",
       " 'porker',\n",
       " 'red_bat',\n",
       " 'smiledon_californicus',\n",
       " 'synaptomys_cooperi',\n",
       " 'felis_catus',\n",
       " 'deer',\n",
       " 'cheetah',\n",
       " 'aardvark',\n",
       " 'sciurus_vulgaris',\n",
       " 'corgi',\n",
       " 'dasyure',\n",
       " 'harnessed_antelope',\n",
       " 'american_sable',\n",
       " 'stablemate',\n",
       " 'zapus_hudsonius',\n",
       " 'enhydra_lutris',\n",
       " 'three_year_old',\n",
       " 'nylghai',\n",
       " 'walker_hound',\n",
       " 'equus_caballus_przewalskii',\n",
       " 'fossa_cat',\n",
       " 'eira_barbara',\n",
       " 'european_lemming',\n",
       " 'dolichotis_patagonum',\n",
       " 'hemigalus_hardwickii',\n",
       " 'rogue_elephant',\n",
       " 'european_hare',\n",
       " 'bearcat',\n",
       " 'odocoileus_hemionus',\n",
       " 'ring-tailed_cat',\n",
       " 'cryptoprocta_ferox',\n",
       " 'babyrousa_babyrussa',\n",
       " 'geomys_bursarius',\n",
       " 'staffordshire_bullterrier',\n",
       " 'domestic_llama',\n",
       " 'felid',\n",
       " 'water_ox',\n",
       " 'fox_terrier',\n",
       " 'ovis_ammon',\n",
       " 'capra_aegagrus',\n",
       " 'kangaroo_jerboa',\n",
       " 'lama_peruana',\n",
       " 'seeing_eye_dog',\n",
       " 'gomphothere',\n",
       " 'marmota_monax',\n",
       " 'seahorse',\n",
       " 'toy_poodle',\n",
       " 'gazelle_hound',\n",
       " 'capybara',\n",
       " 'american_mastodont',\n",
       " 'digitigrade_mammal',\n",
       " 'bandicoot',\n",
       " ...}"
      ]
     },
     "execution_count": 102,
     "metadata": {},
     "output_type": "execute_result"
    }
   ],
   "source": [
    "get_hyponym_terms(word2first_synset['mammal'], hyponyms, first_synset2word)"
   ]
  },
  {
   "cell_type": "code",
   "execution_count": 103,
   "metadata": {},
   "outputs": [],
   "source": [
    "# import nltk\n",
    "# nltk.download('wordnet')\n",
    "\n",
    "# WordNetLemmatizer().lemmatize('dogs')"
   ]
  },
  {
   "cell_type": "markdown",
   "metadata": {},
   "source": [
    "## Problem 1: Hyponym Identification\n",
    "For this problem, we will be using the WordNet hyponym tree in order to identify all occurences of a hyponym of a given synset in a piece of text. To begin, we call the functions defined above to get the relevant information.  \n",
    "\n",
    "`word2first_synset` is a dictionary that maps a word to its first synset, and `first_synset2word` is a dictionary that maps a synset to all words that have that synset as their first synset. Note that for this homework, we are considering only the first (which is usually the most common) synset for each word.  \n",
    "`hyponyms` is a dictionary that maps a synset to a set of synsets which are direct hyponyms of the given synset. This gives the tree structure of hypernym/hyponym relationships.  "
   ]
  },
  {
   "cell_type": "code",
   "execution_count": 104,
   "metadata": {},
   "outputs": [],
   "source": [
    "# Dictionary mapping word to the first synset it is contained in, and synset to words in the synset\n",
    "word2first_synset, first_synset2word = read_index_file('index.noun')\n",
    "\n",
    "# Dictionary of synset to a set of synsets that are direct hyponyms of the synset\n",
    "hyponyms = read_data_file('data.noun')"
   ]
  },
  {
   "cell_type": "markdown",
   "metadata": {},
   "source": [
    "### Problem 1.1\n",
    "Implement `get_hyponym_terms`, which gets all the terms included in the set of all hyponyms of the designated synset."
   ]
  },
  {
   "cell_type": "code",
   "execution_count": 105,
   "metadata": {},
   "outputs": [],
   "source": [
    "def get_hyponym_terms(synset_id, hyponyms, first_synsets_to_words):\n",
    "    \n",
    "    terms = set()\n",
    "    \"\"\" YOUR CODE HERE \"\"\"\n",
    "    #first_synsets_to_words: {synset: [word1, word2, ...]}\n",
    "    #hyponyms: {synset: [synsets such that synset is a subclass of the synset]}\n",
    "    #this function should grab all words that are hyponynms of any word in the synset\n",
    "    #synset_id is a number\n",
    "    #hy\n",
    "    #print(first_synsets_to_words[synset_id])\n",
    "    \n",
    "    if synset_id in first_synsets_to_words:\n",
    "        #print(first_synsets_to_words[synset_id])\n",
    "        words = first_synsets_to_words[synset_id]\n",
    "        for word in words:\n",
    "            terms.add(word)\n",
    "        if synset_id in hyponyms:\n",
    "            synsets = hyponyms[synset_id]\n",
    "            for synset  in synsets:\n",
    "                sub_terms = get_hyponym_terms(synset, hyponyms, first_synsets_to_words)\n",
    "                for term in sub_terms:\n",
    "                    terms.add(term)\n",
    "    \n",
    "\n",
    "    return terms\n",
    "\n",
    "returned_terms = get_hyponym_terms(word2first_synset['mammal'], hyponyms, first_synset2word)\n",
    "#01865519\n"
   ]
  },
  {
   "cell_type": "code",
   "execution_count": null,
   "metadata": {},
   "outputs": [],
   "source": []
  },
  {
   "cell_type": "markdown",
   "metadata": {},
   "source": [
    "With this function, we are able to identify whether a particular word or phrase is a hyponym of a given synset. Now we can move on to using this function to help identify the locations of hyponyms in text."
   ]
  },
  {
   "cell_type": "markdown",
   "metadata": {},
   "source": [
    "### Problem 1.2\n",
    "Implement `get_synset_locations`, which takes in a specified text (represented as multiple lines of tokenized words) and returns locations of where any hyponyms of a given word, where each location is a nested tuple of the format `(line, (start_index, end_index))`. The start index is inclusive and the end index is exclusive.\n",
    "\n",
    "For example, if the word is 'mammal', and the 5th line of the text is \"Dogs , such as the poodle and german shepherd make wonderful pets .\" you should add `(4, (0, 1))`, `(4, (5, 6))`, and `(4, (7, 9))` to the locations list, as `dog`, `poodle`, and `german_shepherd` are hyponyms of 'mammal'.  \n",
    "\n",
    "Assume `text` is a list of lines, where each line is a word-tokenized (by spaces) string representation of a paragraph of text, and `word` is the word we want to find the hyponyms of."
   ]
  },
  {
   "cell_type": "code",
   "execution_count": 106,
   "metadata": {},
   "outputs": [],
   "source": [
    "def sublist(lst1, lst2):\n",
    "    #think of lst1 and lst2 as sequences of \"words\" (or punctuation, anything separated by spaces)\n",
    "    #we want to see if lst1 is a subsequence of lst2:\n",
    "    #in the sense that we took a \"window\" of lst2 and got lst1\n",
    "    list1 = lst1\n",
    "    list2 = lst2\n",
    "    lst1 = [index for index in range(len(lst1))]\n",
    "    lst2 = [index for index in range(len(lst2)) if lst2[index] in list1]\n",
    "\n",
    "    if len(lst2)%len(lst1) == 0:\n",
    "        result = []\n",
    "        k = int(len(lst2)/len(lst1))\n",
    "        #print(lst2)\n",
    "        indices = np.array(lst2, dtype = int).reshape([k, len(lst1)])\n",
    "        indices = list(indices)\n",
    "        for index in indices:\n",
    "            index = list(index)\n",
    "            if lst1[-1]-lst1[0] == index[-1]-index[0]:\n",
    "                result.append(index)\n",
    "        if len(result) > 0:\n",
    "            return True, result\n",
    "        else:\n",
    "            return False, []\n",
    "    else:\n",
    "        return False, []\n",
    "#     if len(lst1)==len(lst2):\n",
    "#         if (lst1[-1]-lst1[0])== (lst2[-1] -lst2[0]):\n",
    "#             return True, lst2\n",
    "#         else:\n",
    "#             return False, []\n",
    "#     else:\n",
    "#         return False, []\n",
    "    \n",
    "def get_synset_locations(text,word,hyponyms, first_synset2word):\n",
    "\n",
    "    locs = []\n",
    "    synset_id = word2first_synset[word]\n",
    "    #this gives the synset the word is in\n",
    "    hyps = get_hyponym_terms(synset_id, hyponyms, first_synset2word) \n",
    "    #this gives all terms that are hyponyms of the synset that contains the word\n",
    "    \n",
    "    step = 1\n",
    "    for line_index in range(len(text)):\n",
    "        #print(step)\n",
    "        for hyp in hyps:\n",
    "            #checking for each hyponym term\n",
    "            h = hyp.split('_')\n",
    "            line = text[line_index]\n",
    "            line = line.lower().split(' ')\n",
    "            line = [WordNetLemmatizer().lemmatize(x.lower()) for x in line]\n",
    "            (line_contains, indices) = sublist(h, line)\n",
    "            if line_contains:\n",
    "                for index in indices:\n",
    "                    locs.append((line_index, (index[0], index[-1]+1))) \n",
    "#                 locs.append((line_index, (indices[0], indices[-1]+1)))\n",
    "        step+=1\n",
    "    return locs"
   ]
  },
  {
   "cell_type": "markdown",
   "metadata": {},
   "source": [
    "The function defined below will help visualize where the hyponyms have been located."
   ]
  },
  {
   "cell_type": "code",
   "execution_count": 107,
   "metadata": {},
   "outputs": [],
   "source": [
    "def print_text_with_bolded_hyponyms(text, word, hyponyms, first_synset2word):\n",
    "    locations = get_synset_locations(text, word, hyponyms, first_synset2word)\n",
    "    \n",
    "    text_print = [t.split() for t in text]\n",
    "    for line_index, word_index in locations:\n",
    "        text_print[line_index][word_index[0]] = '**' + text_print[line_index][word_index[0]]\n",
    "        text_print[line_index][word_index[1]-1] = text_print[line_index][word_index[1]-1] + '**'\n",
    "    \n",
    "    for l in text_print:\n",
    "        display(Markdown((' '.join(l))))"
   ]
  },
  {
   "cell_type": "markdown",
   "metadata": {},
   "source": [
    "With the above functions implemented, we can now see how well we're able to identify hyponyms in text. Run the cell immediately below to read the text file, and then the following cell to display the text, wherein all hyponym of the given word (in this case, 'mammal'), will be bolded."
   ]
  },
  {
   "cell_type": "code",
   "execution_count": 108,
   "metadata": {},
   "outputs": [],
   "source": [
    "with open('literary.texts.txt', 'r', encoding = \"utf-8\") as f:\n",
    "    lines = [l.rstrip() for l in f.readlines()[1:100]]\n"
   ]
  },
  {
   "cell_type": "code",
   "execution_count": 109,
   "metadata": {},
   "outputs": [
    {
     "data": {
      "text/markdown": [
       "Michaelmas term lately over , and the Lord Chancellor sitting in Lincoln 's Inn Hall ."
      ],
      "text/plain": [
       "<IPython.core.display.Markdown object>"
      ]
     },
     "metadata": {},
     "output_type": "display_data"
    },
    {
     "data": {
      "text/markdown": [
       "Implacable November weather ."
      ],
      "text/plain": [
       "<IPython.core.display.Markdown object>"
      ]
     },
     "metadata": {},
     "output_type": "display_data"
    },
    {
     "data": {
      "text/markdown": [
       "As much mud in the streets as if the waters had but newly retired from the face of the earth , and it would not be wonderful to meet a Megalosaurus , forty feet long or so , waddling like an elephantine lizard up Holborn Hill ."
      ],
      "text/plain": [
       "<IPython.core.display.Markdown object>"
      ]
     },
     "metadata": {},
     "output_type": "display_data"
    },
    {
     "data": {
      "text/markdown": [
       "Smoke lowering down from chimney-pots , making a soft black drizzle , with flakes of soot in it as big as full-grown snowflakes -- gone into mourning , one might imagine , for the death of the sun ."
      ],
      "text/plain": [
       "<IPython.core.display.Markdown object>"
      ]
     },
     "metadata": {},
     "output_type": "display_data"
    },
    {
     "data": {
      "text/markdown": [
       "**Dogs** , undistinguishable in mire ."
      ],
      "text/plain": [
       "<IPython.core.display.Markdown object>"
      ]
     },
     "metadata": {},
     "output_type": "display_data"
    },
    {
     "data": {
      "text/markdown": [
       "**Horses** , scarcely better ; splashed to their very blinkers ."
      ],
      "text/plain": [
       "<IPython.core.display.Markdown object>"
      ]
     },
     "metadata": {},
     "output_type": "display_data"
    },
    {
     "data": {
      "text/markdown": [
       "Foot passengers , jostling one another 's umbrellas in a general infection of ill temper , and losing their foot-hold at street-corners , where tens of thousands of other foot passengers have been slipping and sliding since the day broke ( if this day ever broke ) , adding new deposits to the crust upon crust of mud , sticking at those points tenaciously to the pavement , and accumulating at compound interest ."
      ],
      "text/plain": [
       "<IPython.core.display.Markdown object>"
      ]
     },
     "metadata": {},
     "output_type": "display_data"
    },
    {
     "data": {
      "text/markdown": [
       "Fog everywhere ."
      ],
      "text/plain": [
       "<IPython.core.display.Markdown object>"
      ]
     },
     "metadata": {},
     "output_type": "display_data"
    },
    {
     "data": {
      "text/markdown": [
       "Fog up the river , where it flows among green aits and meadows ; fog down the river , where it rolls defiled among the tiers of shipping and the waterside pollutions of a great ( and dirty ) city ."
      ],
      "text/plain": [
       "<IPython.core.display.Markdown object>"
      ]
     },
     "metadata": {},
     "output_type": "display_data"
    },
    {
     "data": {
      "text/markdown": [
       "Fog on the Essex marshes , fog on the Kentish heights ."
      ],
      "text/plain": [
       "<IPython.core.display.Markdown object>"
      ]
     },
     "metadata": {},
     "output_type": "display_data"
    },
    {
     "data": {
      "text/markdown": [
       "Fog creeping into the cabooses of collier-brigs ; fog lying out on the yards and hovering in the rigging of great ships ; fog drooping on the gunwales of barges and small boats ."
      ],
      "text/plain": [
       "<IPython.core.display.Markdown object>"
      ]
     },
     "metadata": {},
     "output_type": "display_data"
    },
    {
     "data": {
      "text/markdown": [
       "Fog in the eyes and throats of ancient Greenwich pensioners , wheezing by the firesides of their wards ; fog in the stem and bowl of the afternoon pipe of the wrathful skipper , down in his close cabin ; fog cruelly pinching the toes and fingers of his shivering little ' prentice boy on deck ."
      ],
      "text/plain": [
       "<IPython.core.display.Markdown object>"
      ]
     },
     "metadata": {},
     "output_type": "display_data"
    },
    {
     "data": {
      "text/markdown": [
       "Chance people on the bridges peeping over the parapets into a nether sky of fog , with fog all round them , as if they were up in a balloon and hanging in the misty clouds ."
      ],
      "text/plain": [
       "<IPython.core.display.Markdown object>"
      ]
     },
     "metadata": {},
     "output_type": "display_data"
    },
    {
     "data": {
      "text/markdown": [
       "Gas looming through the fog in divers places in the streets , much as the sun may , from the spongey fields , be seen to loom by husbandman and ploughboy ."
      ],
      "text/plain": [
       "<IPython.core.display.Markdown object>"
      ]
     },
     "metadata": {},
     "output_type": "display_data"
    },
    {
     "data": {
      "text/markdown": [
       "Most of the shops lighted two hours before their time -- as the gas seems to know , for it has a haggard and unwilling look ."
      ],
      "text/plain": [
       "<IPython.core.display.Markdown object>"
      ]
     },
     "metadata": {},
     "output_type": "display_data"
    },
    {
     "data": {
      "text/markdown": [
       "The raw afternoon is rawest , and the dense fog is densest , and the muddy streets are muddiest near that leaden-headed old obstruction , appropriate ornament for the threshold of a leaden-headed old corporation , Temple Bar ."
      ],
      "text/plain": [
       "<IPython.core.display.Markdown object>"
      ]
     },
     "metadata": {},
     "output_type": "display_data"
    },
    {
     "data": {
      "text/markdown": [
       "And hard by Temple Bar , in Lincoln 's Inn Hall , at the very heart of the fog , sits the Lord High Chancellor in his High Court of Chancery ."
      ],
      "text/plain": [
       "<IPython.core.display.Markdown object>"
      ]
     },
     "metadata": {},
     "output_type": "display_data"
    },
    {
     "data": {
      "text/markdown": [
       "Never can there come fog too thick , never can there come mud and mire too deep , to assort with the groping and floundering condition which this High Court of Chancery , most pestilent of hoary sinners , holds this day in the sight of heaven and earth ."
      ],
      "text/plain": [
       "<IPython.core.display.Markdown object>"
      ]
     },
     "metadata": {},
     "output_type": "display_data"
    },
    {
     "data": {
      "text/markdown": [
       "On such an afternoon , if ever , the Lord High Chancellor ought to be sitting here -- as here he is -- with a foggy glory round his head , softly fenced in with crimson cloth and curtains , addressed by a large advocate with great whiskers , a little voice , and an interminable brief , and outwardly directing his contemplation to the lantern in the roof , where he can see nothing but fog ."
      ],
      "text/plain": [
       "<IPython.core.display.Markdown object>"
      ]
     },
     "metadata": {},
     "output_type": "display_data"
    },
    {
     "data": {
      "text/markdown": [
       "On such an afternoon some score of members of the High Court of Chancery bar ought to be -- as here they are -- mistily engaged in one of the ten thousand stages of an endless cause , tripping one another up on slippery precedents , groping knee-deep in technicalities , running their goat-hair and horsehair warded heads against walls of words and making a pretence of equity with serious faces , as players might ."
      ],
      "text/plain": [
       "<IPython.core.display.Markdown object>"
      ]
     },
     "metadata": {},
     "output_type": "display_data"
    },
    {
     "data": {
      "text/markdown": [
       "On such an afternoon the various solicitors in the cause , some two or three of whom have inherited it from their fathers , who made a fortune by it , ought to be -- as are they not ?"
      ],
      "text/plain": [
       "<IPython.core.display.Markdown object>"
      ]
     },
     "metadata": {},
     "output_type": "display_data"
    },
    {
     "data": {
      "text/markdown": [
       "-- ranged in a line , in a long matted well ( but you might look in vain for truth at the bottom of it ) between the registrar 's red table and the silk gowns , with bills , cross-bills , answers , rejoinders , injunctions , affidavits , issues , references to masters , masters ' reports , mountains of costly nonsense , piled before them ."
      ],
      "text/plain": [
       "<IPython.core.display.Markdown object>"
      ]
     },
     "metadata": {},
     "output_type": "display_data"
    },
    {
     "data": {
      "text/markdown": [
       "Well may the court be dim , with wasting candles here and there ; well may the fog hang heavy in it , as if it would never get out ; well may the stained-glass windows lose their colour and admit no light of day into the place ; well may the uninitiated from the streets , who peep in through the glass panes in the door , be deterred from entrance by its owlish aspect and by the drawl , languidly echoing to the roof from the padded dais where the Lord High Chancellor looks into the lantern that has no light in it and where the attendant wigs are all stuck in a fog-bank !"
      ],
      "text/plain": [
       "<IPython.core.display.Markdown object>"
      ]
     },
     "metadata": {},
     "output_type": "display_data"
    },
    {
     "data": {
      "text/markdown": [
       "This is the Court of Chancery , which has its decaying houses and its blighted lands in every shire , which has its worn-out lunatic in every madhouse and its dead in every churchyard , which has its ruined suitor with his slipshod heels and threadbare dress borrowing and begging through the round of every man 's acquaintance , which gives to monied might the means abundantly of wearying out the right , which so exhausts finances , patience , courage , hope , so overthrows the brain and breaks the heart , that there is not an honourable man among its practitioners who would not give -- who does not often give -- the warning , \" Suffer any wrong that can be done you rather than come here ! \""
      ],
      "text/plain": [
       "<IPython.core.display.Markdown object>"
      ]
     },
     "metadata": {},
     "output_type": "display_data"
    },
    {
     "data": {
      "text/markdown": [
       "Who happen to be in the Lord Chancellor 's court this murky afternoon besides the Lord Chancellor , the counsel in the cause , two or three counsel who are never in any cause , and the well of solicitors before mentioned ?"
      ],
      "text/plain": [
       "<IPython.core.display.Markdown object>"
      ]
     },
     "metadata": {},
     "output_type": "display_data"
    },
    {
     "data": {
      "text/markdown": [
       "There is the registrar below the judge , in wig and gown ; and there are two or three maces , or petty-bags , or privy purses , or whatever they may be , in legal court suits ."
      ],
      "text/plain": [
       "<IPython.core.display.Markdown object>"
      ]
     },
     "metadata": {},
     "output_type": "display_data"
    },
    {
     "data": {
      "text/markdown": [
       "These are all yawning , for no crumb of amusement ever falls from Jarndyce and Jarndyce ( the cause in hand ) , which was squeezed dry years upon years ago ."
      ],
      "text/plain": [
       "<IPython.core.display.Markdown object>"
      ]
     },
     "metadata": {},
     "output_type": "display_data"
    },
    {
     "data": {
      "text/markdown": [
       "The short-hand writers , the reporters of the court , and the reporters of the newspapers invariably decamp with the rest of the regulars when Jarndyce and Jarndyce comes on ."
      ],
      "text/plain": [
       "<IPython.core.display.Markdown object>"
      ]
     },
     "metadata": {},
     "output_type": "display_data"
    },
    {
     "data": {
      "text/markdown": [
       "Their places are a blank ."
      ],
      "text/plain": [
       "<IPython.core.display.Markdown object>"
      ]
     },
     "metadata": {},
     "output_type": "display_data"
    },
    {
     "data": {
      "text/markdown": [
       "Standing on a seat at the side of the hall , the better to peer into the curtained sanctuary , is a little mad old woman in a squeezed bonnet who is always in court , from its sitting to its rising , and always expecting some incomprehensible judgment to be given in her favour ."
      ],
      "text/plain": [
       "<IPython.core.display.Markdown object>"
      ]
     },
     "metadata": {},
     "output_type": "display_data"
    },
    {
     "data": {
      "text/markdown": [
       "Some say she really is , or was , a party to a suit , but no one knows for certain because no one cares ."
      ],
      "text/plain": [
       "<IPython.core.display.Markdown object>"
      ]
     },
     "metadata": {},
     "output_type": "display_data"
    },
    {
     "data": {
      "text/markdown": [
       "She carries some small litter in a reticule which she calls her documents , principally consisting of paper matches and dry lavender ."
      ],
      "text/plain": [
       "<IPython.core.display.Markdown object>"
      ]
     },
     "metadata": {},
     "output_type": "display_data"
    },
    {
     "data": {
      "text/markdown": [
       "A sallow prisoner has come up , in custody , for the half-dozenth time to make a personal application \" to purge himself of his contempt , \" which , being a solitary surviving executor who has fallen into a state of conglomeration about accounts of which it is not pretended that he had ever any knowledge , he is not at all likely ever to do ."
      ],
      "text/plain": [
       "<IPython.core.display.Markdown object>"
      ]
     },
     "metadata": {},
     "output_type": "display_data"
    },
    {
     "data": {
      "text/markdown": [
       "In the meantime his prospects in life are ended ."
      ],
      "text/plain": [
       "<IPython.core.display.Markdown object>"
      ]
     },
     "metadata": {},
     "output_type": "display_data"
    },
    {
     "data": {
      "text/markdown": [
       "Another ruined suitor , who periodically appears from Shropshire and breaks out into efforts to address the Chancellor at the close of the day 's business and who can by no means be made to understand that the Chancellor is legally ignorant of his existence after making it desolate for a quarter of a century , plants himself in a good place and keeps an eye on the judge , ready to call out \" My Lord ! \""
      ],
      "text/plain": [
       "<IPython.core.display.Markdown object>"
      ]
     },
     "metadata": {},
     "output_type": "display_data"
    },
    {
     "data": {
      "text/markdown": [
       "in a voice of sonorous complaint on the instant of his rising ."
      ],
      "text/plain": [
       "<IPython.core.display.Markdown object>"
      ]
     },
     "metadata": {},
     "output_type": "display_data"
    },
    {
     "data": {
      "text/markdown": [
       "A few lawyers ' clerks and others who know this suitor by sight linger on the chance of his furnishing some fun and enlivening the dismal weather a little ."
      ],
      "text/plain": [
       "<IPython.core.display.Markdown object>"
      ]
     },
     "metadata": {},
     "output_type": "display_data"
    },
    {
     "data": {
      "text/markdown": [
       "Jarndyce and Jarndyce drones on ."
      ],
      "text/plain": [
       "<IPython.core.display.Markdown object>"
      ]
     },
     "metadata": {},
     "output_type": "display_data"
    },
    {
     "data": {
      "text/markdown": [
       "This scarecrow of a suit has , in course of time , become so complicated that no man alive knows what it means ."
      ],
      "text/plain": [
       "<IPython.core.display.Markdown object>"
      ]
     },
     "metadata": {},
     "output_type": "display_data"
    },
    {
     "data": {
      "text/markdown": [
       "The parties to it understand it least , but it has been observed that no two Chancery lawyers can talk about it for five minutes without coming to a total disagreement as to all the premises ."
      ],
      "text/plain": [
       "<IPython.core.display.Markdown object>"
      ]
     },
     "metadata": {},
     "output_type": "display_data"
    },
    {
     "data": {
      "text/markdown": [
       "Innumerable children have been born into the cause ; innumerable young people have married into it ; innumerable old people have died out of it ."
      ],
      "text/plain": [
       "<IPython.core.display.Markdown object>"
      ]
     },
     "metadata": {},
     "output_type": "display_data"
    },
    {
     "data": {
      "text/markdown": [
       "Scores of persons have deliriously found themselves made parties in Jarndyce and Jarndyce without knowing how or why ; whole families have inherited legendary hatreds with the suit ."
      ],
      "text/plain": [
       "<IPython.core.display.Markdown object>"
      ]
     },
     "metadata": {},
     "output_type": "display_data"
    },
    {
     "data": {
      "text/markdown": [
       "The little plaintiff or defendant who was promised a new rocking-horse when Jarndyce and Jarndyce should be settled has grown up , possessed himself of a real **horse** , and trotted away into the other world ."
      ],
      "text/plain": [
       "<IPython.core.display.Markdown object>"
      ]
     },
     "metadata": {},
     "output_type": "display_data"
    },
    {
     "data": {
      "text/markdown": [
       "Fair wards of court have faded into mothers and grandmothers ; a long procession of Chancellors has come in and gone out ; the legion of bills in the suit have been transformed into mere bills of mortality ; there are not three Jarndyces left upon the earth perhaps since old **Tom** Jarndyce in despair blew his brains out at a coffee-house in Chancery Lane ; but Jarndyce and Jarndyce still drags its dreary length before the court , perennially hopeless ."
      ],
      "text/plain": [
       "<IPython.core.display.Markdown object>"
      ]
     },
     "metadata": {},
     "output_type": "display_data"
    },
    {
     "data": {
      "text/markdown": [
       "Jarndyce and Jarndyce has passed into a joke ."
      ],
      "text/plain": [
       "<IPython.core.display.Markdown object>"
      ]
     },
     "metadata": {},
     "output_type": "display_data"
    },
    {
     "data": {
      "text/markdown": [
       "That is the only good that has ever come of it ."
      ],
      "text/plain": [
       "<IPython.core.display.Markdown object>"
      ]
     },
     "metadata": {},
     "output_type": "display_data"
    },
    {
     "data": {
      "text/markdown": [
       "It has been death to many , but it is a joke in the profession ."
      ],
      "text/plain": [
       "<IPython.core.display.Markdown object>"
      ]
     },
     "metadata": {},
     "output_type": "display_data"
    },
    {
     "data": {
      "text/markdown": [
       "Every master in Chancery has had a reference out of it ."
      ],
      "text/plain": [
       "<IPython.core.display.Markdown object>"
      ]
     },
     "metadata": {},
     "output_type": "display_data"
    },
    {
     "data": {
      "text/markdown": [
       "Every Chancellor was \" in it , \" for somebody or other , when he was counsel at the bar ."
      ],
      "text/plain": [
       "<IPython.core.display.Markdown object>"
      ]
     },
     "metadata": {},
     "output_type": "display_data"
    },
    {
     "data": {
      "text/markdown": [
       "Good things have been said about it by blue-nosed , bulbous-shoed old benchers in select port-wine committee after dinner in hall ."
      ],
      "text/plain": [
       "<IPython.core.display.Markdown object>"
      ]
     },
     "metadata": {},
     "output_type": "display_data"
    },
    {
     "data": {
      "text/markdown": [
       "Articled clerks have been in the habit of fleshing their legal wit upon it ."
      ],
      "text/plain": [
       "<IPython.core.display.Markdown object>"
      ]
     },
     "metadata": {},
     "output_type": "display_data"
    },
    {
     "data": {
      "text/markdown": [
       "The last Lord Chancellor handled it neatly , when , correcting Mr. Blowers , the eminent silk gown who said that such a thing might happen when the sky rained potatoes , he observed , \" or when we get through Jarndyce and Jarndyce , Mr. Blowers \" -- a pleasantry that particularly tickled the maces , bags , and purses ."
      ],
      "text/plain": [
       "<IPython.core.display.Markdown object>"
      ]
     },
     "metadata": {},
     "output_type": "display_data"
    },
    {
     "data": {
      "text/markdown": [
       "How many people out of the suit Jarndyce and Jarndyce has stretched forth its unwholesome hand to spoil and corrupt would be a very wide question ."
      ],
      "text/plain": [
       "<IPython.core.display.Markdown object>"
      ]
     },
     "metadata": {},
     "output_type": "display_data"
    },
    {
     "data": {
      "text/markdown": [
       "From the master upon whose impaling files reams of dusty warrants in Jarndyce and Jarndyce have grimly writhed into many shapes , down to the copying-clerk in the Six Clerks ' Office who has copied his tens of thousands of Chancery folio-pages under that eternal heading , no man 's nature has been made better by it ."
      ],
      "text/plain": [
       "<IPython.core.display.Markdown object>"
      ]
     },
     "metadata": {},
     "output_type": "display_data"
    },
    {
     "data": {
      "text/markdown": [
       "In trickery , evasion , procrastination , spoliation , botheration , under false pretences of all sorts , there are influences that can never come to good ."
      ],
      "text/plain": [
       "<IPython.core.display.Markdown object>"
      ]
     },
     "metadata": {},
     "output_type": "display_data"
    },
    {
     "data": {
      "text/markdown": [
       "The very solicitors ' boys who have kept the wretched suitors at bay , by protesting time out of mind that Mr. Chizzle , Mizzle , or otherwise was particularly engaged and had appointments until dinner , may have got an extra moral twist and shuffle into themselves out of Jarndyce and Jarndyce ."
      ],
      "text/plain": [
       "<IPython.core.display.Markdown object>"
      ]
     },
     "metadata": {},
     "output_type": "display_data"
    },
    {
     "data": {
      "text/markdown": [
       "The receiver in the cause has acquired a goodly sum of money by it but has acquired too a distrust of his own mother and a contempt for his own kind ."
      ],
      "text/plain": [
       "<IPython.core.display.Markdown object>"
      ]
     },
     "metadata": {},
     "output_type": "display_data"
    },
    {
     "data": {
      "text/markdown": [
       "Chizzle , Mizzle , and otherwise have lapsed into a habit of vaguely promising themselves that they will look into that outstanding little matter and see what can be done for Drizzle -- who was not well used -- when Jarndyce and Jarndyce shall be got out of the office ."
      ],
      "text/plain": [
       "<IPython.core.display.Markdown object>"
      ]
     },
     "metadata": {},
     "output_type": "display_data"
    },
    {
     "data": {
      "text/markdown": [
       "Shirking and sharking in all their many varieties have been sown broadcast by the ill-fated cause ; and even those who have contemplated its history from the outermost circle of such evil have been insensibly tempted into a loose way of letting bad things alone to take their own bad course , and a loose belief that if the world go wrong it was in some off-hand manner never meant to go right ."
      ],
      "text/plain": [
       "<IPython.core.display.Markdown object>"
      ]
     },
     "metadata": {},
     "output_type": "display_data"
    },
    {
     "data": {
      "text/markdown": [
       "Chapter 1 Sir Walter Elliot , of Kellynch Hall , in Somersetshire , was a man who , for his own amusement , never took up any book but the Baronetage ; there he found occupation for an idle hour , and consolation in a distressed one ; there his faculties were roused into admiration and respect , by contemplating the limited remnant of the earliest patents ; there any unwelcome sensations , arising from domestic affairs changed naturally into pity and contempt as he turned over the almost endless creations of the last century ; and there , if every other leaf were powerless , he could read his own history with an interest which never failed ."
      ],
      "text/plain": [
       "<IPython.core.display.Markdown object>"
      ]
     },
     "metadata": {},
     "output_type": "display_data"
    },
    {
     "data": {
      "text/markdown": [
       "This was the page at which the favourite volume always opened : \" ELLIOT OF KELLYNCH HALL ."
      ],
      "text/plain": [
       "<IPython.core.display.Markdown object>"
      ]
     },
     "metadata": {},
     "output_type": "display_data"
    },
    {
     "data": {
      "text/markdown": [
       "\" Walter Elliot , born March 1 , 1760 , married , July 15 , 1784 , Elizabeth , daughter of James Stevenson , Esq. of South Park , in the county of Gloucester , by which lady ( who died 1800 ) he has issue Elizabeth , born June 1 , 1785 ; Anne , born August 9 , 1787 ; a still-born son , November 5 , 1789 ; Mary , born November 20 , 1791 . \""
      ],
      "text/plain": [
       "<IPython.core.display.Markdown object>"
      ]
     },
     "metadata": {},
     "output_type": "display_data"
    },
    {
     "data": {
      "text/markdown": [
       "Precisely such had the paragraph originally stood from the printer 's hands ; but Sir Walter had improved it by adding , for the information of himself and his family , these words , after the date of Mary 's birth -- \" Married , December 16 , 1810 , Charles , son and heir of Charles Musgrove , Esq. of Uppercross , in the county of Somerset , \" and by inserting most accurately the day of the month on which he had lost his wife ."
      ],
      "text/plain": [
       "<IPython.core.display.Markdown object>"
      ]
     },
     "metadata": {},
     "output_type": "display_data"
    },
    {
     "data": {
      "text/markdown": [
       "Then followed the history and rise of the ancient and respectable family , in the usual terms ; how it had been first settled in Cheshire ; how mentioned in Dugdale , serving the office of high sheriff , representing a borough in three successive parliaments , exertions of loyalty , and dignity of baronet , in the first year of Charles II , with all the Marys and Elizabeths they had married ; forming altogether two handsome duodecimo pages , and concluding with the arms and motto : -- \" Principal seat , Kellynch Hall , in the county of Somerset , \" and Sir Walter 's handwriting again in this finale : -- \" Heir presumptive , William Walter Elliot , Esq. , great grandson of the second Sir Walter . \""
      ],
      "text/plain": [
       "<IPython.core.display.Markdown object>"
      ]
     },
     "metadata": {},
     "output_type": "display_data"
    },
    {
     "data": {
      "text/markdown": [
       "Vanity was the beginning and the end of Sir Walter Elliot 's character ; vanity of person and of situation ."
      ],
      "text/plain": [
       "<IPython.core.display.Markdown object>"
      ]
     },
     "metadata": {},
     "output_type": "display_data"
    },
    {
     "data": {
      "text/markdown": [
       "He had been remarkably handsome in his youth ; and , at fifty-four , was still a very fine man ."
      ],
      "text/plain": [
       "<IPython.core.display.Markdown object>"
      ]
     },
     "metadata": {},
     "output_type": "display_data"
    },
    {
     "data": {
      "text/markdown": [
       "Few women could think more of their personal appearance than he did , nor could the valet of any new made lord be more delighted with the place he held in society ."
      ],
      "text/plain": [
       "<IPython.core.display.Markdown object>"
      ]
     },
     "metadata": {},
     "output_type": "display_data"
    },
    {
     "data": {
      "text/markdown": [
       "He considered the blessing of beauty as inferior only to the blessing of a baronetcy ; and the Sir Walter Elliot , who united these gifts , was the constant object of his warmest respect and devotion ."
      ],
      "text/plain": [
       "<IPython.core.display.Markdown object>"
      ]
     },
     "metadata": {},
     "output_type": "display_data"
    },
    {
     "data": {
      "text/markdown": [
       "His good looks and his rank had one fair claim on his attachment ; since to them he must have owed a wife of very superior character to any thing deserved by his own ."
      ],
      "text/plain": [
       "<IPython.core.display.Markdown object>"
      ]
     },
     "metadata": {},
     "output_type": "display_data"
    },
    {
     "data": {
      "text/markdown": [
       "Lady Elliot had been an excellent woman , sensible and amiable ; whose judgement and conduct , if they might be pardoned the youthful infatuation which made her Lady Elliot , had never required indulgence afterwards ."
      ],
      "text/plain": [
       "<IPython.core.display.Markdown object>"
      ]
     },
     "metadata": {},
     "output_type": "display_data"
    },
    {
     "data": {
      "text/markdown": [
       "-- She had humoured , or softened , or concealed his failings , and promoted his real respectability for seventeen years ; and though not the very happiest being in the world herself , had found enough in her duties , her friends , and her children , to attach her to life , and make it no matter of indifference to her when she was called on to quit them ."
      ],
      "text/plain": [
       "<IPython.core.display.Markdown object>"
      ]
     },
     "metadata": {},
     "output_type": "display_data"
    },
    {
     "data": {
      "text/markdown": [
       "-- Three girls , the two eldest sixteen and fourteen , was an awful legacy for a mother to bequeath , an awful charge rather , to confide to the authority and guidance of a conceited , silly father ."
      ],
      "text/plain": [
       "<IPython.core.display.Markdown object>"
      ]
     },
     "metadata": {},
     "output_type": "display_data"
    },
    {
     "data": {
      "text/markdown": [
       "She had , however , one very intimate friend , a sensible , deserving woman , who had been brought , by strong attachment to herself , to settle close by her , in the village of Kellynch ; and on her kindness and advice , Lady Elliot mainly relied for the best help and maintenance of the good principles and instruction which she had been anxiously giving her daughters ."
      ],
      "text/plain": [
       "<IPython.core.display.Markdown object>"
      ]
     },
     "metadata": {},
     "output_type": "display_data"
    },
    {
     "data": {
      "text/markdown": [
       "This friend , and Sir Walter , did not marry , whatever might have been anticipated on that head by their acquaintance ."
      ],
      "text/plain": [
       "<IPython.core.display.Markdown object>"
      ]
     },
     "metadata": {},
     "output_type": "display_data"
    },
    {
     "data": {
      "text/markdown": [
       "Thirteen years had passed away since Lady Elliot 's death , and they were still near neighbours and intimate friends , and one remained a widower , the other a widow ."
      ],
      "text/plain": [
       "<IPython.core.display.Markdown object>"
      ]
     },
     "metadata": {},
     "output_type": "display_data"
    },
    {
     "data": {
      "text/markdown": [
       "That Lady Russell , of steady age and character , and extremely well provided for , should have no thought of a second marriage , needs no apology to the public , which is rather apt to be unreasonably discontented when a woman does marry again , than when she does not ; but Sir Walter 's continuing in singleness requires explanation ."
      ],
      "text/plain": [
       "<IPython.core.display.Markdown object>"
      ]
     },
     "metadata": {},
     "output_type": "display_data"
    },
    {
     "data": {
      "text/markdown": [
       "Be it known then , that Sir Walter , like a good father , ( having met with one or two private disappointments in very unreasonable applications ) , prided himself on remaining single for his dear daughters ' sake ."
      ],
      "text/plain": [
       "<IPython.core.display.Markdown object>"
      ]
     },
     "metadata": {},
     "output_type": "display_data"
    },
    {
     "data": {
      "text/markdown": [
       "For one daughter , his eldest , he would really have given up any thing , which he had not been very much tempted to do ."
      ],
      "text/plain": [
       "<IPython.core.display.Markdown object>"
      ]
     },
     "metadata": {},
     "output_type": "display_data"
    },
    {
     "data": {
      "text/markdown": [
       "Elizabeth had succeeded , at sixteen , to all that was possible , of her mother 's rights and consequence ; and being very handsome , and very like himself , her influence had always been great , and they had gone on together most happily ."
      ],
      "text/plain": [
       "<IPython.core.display.Markdown object>"
      ]
     },
     "metadata": {},
     "output_type": "display_data"
    },
    {
     "data": {
      "text/markdown": [
       "His two other children were of very inferior value ."
      ],
      "text/plain": [
       "<IPython.core.display.Markdown object>"
      ]
     },
     "metadata": {},
     "output_type": "display_data"
    },
    {
     "data": {
      "text/markdown": [
       "Mary had acquired a little artificial importance , by becoming Mrs Charles Musgrove ; but Anne , with an elegance of mind and sweetness of character , which must have placed her high with any people of real understanding , was nobody with either father or sister ; her word had no weight , her convenience was always to give way -- she was only Anne ."
      ],
      "text/plain": [
       "<IPython.core.display.Markdown object>"
      ]
     },
     "metadata": {},
     "output_type": "display_data"
    },
    {
     "data": {
      "text/markdown": [
       "To Lady Russell , indeed , she was a most dear and highly valued god-daughter , favourite , and friend ."
      ],
      "text/plain": [
       "<IPython.core.display.Markdown object>"
      ]
     },
     "metadata": {},
     "output_type": "display_data"
    },
    {
     "data": {
      "text/markdown": [
       "Lady Russell loved them all ; but it was only in Anne that she could fancy the mother to revive again ."
      ],
      "text/plain": [
       "<IPython.core.display.Markdown object>"
      ]
     },
     "metadata": {},
     "output_type": "display_data"
    },
    {
     "data": {
      "text/markdown": [
       "A few years before , Anne Elliot had been a very pretty girl , but her bloom had vanished early ; and as even in its height , her father had found little to admire in her , ( so totally different were her delicate features and mild dark eyes from his own ) , there could be nothing in them , now that she was faded and thin , to excite his esteem ."
      ],
      "text/plain": [
       "<IPython.core.display.Markdown object>"
      ]
     },
     "metadata": {},
     "output_type": "display_data"
    },
    {
     "data": {
      "text/markdown": [
       "He had never indulged much hope , he had now none , of ever reading her name in any other page of his favourite work ."
      ],
      "text/plain": [
       "<IPython.core.display.Markdown object>"
      ]
     },
     "metadata": {},
     "output_type": "display_data"
    },
    {
     "data": {
      "text/markdown": [
       "All equality of alliance must rest with Elizabeth , for Mary had merely connected herself with an old country family of respectability and large fortune , and had therefore given all the honour and received none : Elizabeth would , one day or other , marry suitably ."
      ],
      "text/plain": [
       "<IPython.core.display.Markdown object>"
      ]
     },
     "metadata": {},
     "output_type": "display_data"
    },
    {
     "data": {
      "text/markdown": [
       "It sometimes happens that a woman is handsomer at twenty-nine than she was ten years before ; and , generally speaking , if there has been neither ill health nor anxiety , it is a time of life at which scarcely any charm is lost ."
      ],
      "text/plain": [
       "<IPython.core.display.Markdown object>"
      ]
     },
     "metadata": {},
     "output_type": "display_data"
    },
    {
     "data": {
      "text/markdown": [
       "It was so with Elizabeth , still the same handsome Miss Elliot that she had begun to be thirteen years ago , and Sir Walter might be excused , therefore , in forgetting her age , or , at least , be deemed only half a fool , for thinking himself and Elizabeth as blooming as ever , amidst the wreck of the good looks of everybody else ; for he could plainly see how old all the rest of his family and acquaintance were growing ."
      ],
      "text/plain": [
       "<IPython.core.display.Markdown object>"
      ]
     },
     "metadata": {},
     "output_type": "display_data"
    },
    {
     "data": {
      "text/markdown": [
       "Anne haggard , Mary coarse , every face in the neighbourhood worsting , and the rapid increase of the crow 's foot about Lady Russell 's temples had long been a distress to him ."
      ],
      "text/plain": [
       "<IPython.core.display.Markdown object>"
      ]
     },
     "metadata": {},
     "output_type": "display_data"
    },
    {
     "data": {
      "text/markdown": [
       "Elizabeth did not quite equal her father in personal contentment ."
      ],
      "text/plain": [
       "<IPython.core.display.Markdown object>"
      ]
     },
     "metadata": {},
     "output_type": "display_data"
    },
    {
     "data": {
      "text/markdown": [
       "Thirteen years had seen her mistress of Kellynch Hall , presiding and directing with a self-possession and decision which could never have given the idea of her being younger than she was ."
      ],
      "text/plain": [
       "<IPython.core.display.Markdown object>"
      ]
     },
     "metadata": {},
     "output_type": "display_data"
    },
    {
     "data": {
      "text/markdown": [
       "For thirteen years had she been doing the honours , and laying down the domestic law at home , and leading the way to the chaise and four , and walking immediately after Lady Russell out of all the drawing-rooms and dining-rooms in the country ."
      ],
      "text/plain": [
       "<IPython.core.display.Markdown object>"
      ]
     },
     "metadata": {},
     "output_type": "display_data"
    },
    {
     "data": {
      "text/markdown": [
       "Thirteen winters ' revolving frosts had seen her opening every ball of credit which a scanty neighbourhood afforded , and thirteen springs shewn their blossoms , as she travelled up to London with her father , for a few weeks ' annual enjoyment of the great world ."
      ],
      "text/plain": [
       "<IPython.core.display.Markdown object>"
      ]
     },
     "metadata": {},
     "output_type": "display_data"
    },
    {
     "data": {
      "text/markdown": [
       "She had the remembrance of all this , she had the consciousness of being nine-and-twenty to give her some regrets and some apprehensions ; she was fully satisfied of being still quite as handsome as ever , but she felt her approach to the years of danger , and would have rejoiced to be certain of being properly solicited by baronet-blood within the next twelvemonth or two ."
      ],
      "text/plain": [
       "<IPython.core.display.Markdown object>"
      ]
     },
     "metadata": {},
     "output_type": "display_data"
    },
    {
     "data": {
      "text/markdown": [
       "Then might she again take up the book of books with as much enjoyment as in her early youth , but now she liked it not ."
      ],
      "text/plain": [
       "<IPython.core.display.Markdown object>"
      ]
     },
     "metadata": {},
     "output_type": "display_data"
    },
    {
     "data": {
      "text/markdown": [
       "Always to be presented with the date of her own birth and see no marriage follow but that of a youngest sister , made the book an evil ; and more than once , when her father had left it open on the table near her , had she closed it , with averted eyes , and pushed it away ."
      ],
      "text/plain": [
       "<IPython.core.display.Markdown object>"
      ]
     },
     "metadata": {},
     "output_type": "display_data"
    },
    {
     "data": {
      "text/markdown": [
       "She had had a disappointment , moreover , which that book , and especially the history of her own family , must ever present the remembrance of ."
      ],
      "text/plain": [
       "<IPython.core.display.Markdown object>"
      ]
     },
     "metadata": {},
     "output_type": "display_data"
    },
    {
     "data": {
      "text/markdown": [
       "The heir presumptive , the very William Walter Elliot , Esq. , whose rights had been so generously supported by her father , had disappointed her ."
      ],
      "text/plain": [
       "<IPython.core.display.Markdown object>"
      ]
     },
     "metadata": {},
     "output_type": "display_data"
    },
    {
     "data": {
      "text/markdown": [
       "She had , while a very young girl , as soon as she had known him to be , in the event of her having no brother , the future baronet , meant to marry him , and her father had always meant that she should ."
      ],
      "text/plain": [
       "<IPython.core.display.Markdown object>"
      ]
     },
     "metadata": {},
     "output_type": "display_data"
    }
   ],
   "source": [
    "print_text_with_bolded_hyponyms(lines, 'mammal', hyponyms, first_synset2word)"
   ]
  },
  {
   "cell_type": "markdown",
   "metadata": {},
   "source": [
    "Feel free to change 'mammal' in the above cell to see different hyponyms being identified."
   ]
  },
  {
   "cell_type": "markdown",
   "metadata": {},
   "source": [
    "## Problem 2: Synset Clustering\n",
    "In this next problem, we will be generating clusters from synsets in order to find which synset are most similar to some words that are not contained in Wordnet.  \n",
    "\n",
    "We begin by reading in our GloVe word embeddings, trained on a Twitter dataset."
   ]
  },
  {
   "cell_type": "code",
   "execution_count": 110,
   "metadata": {},
   "outputs": [],
   "source": [
    "glove_dict = {}\n",
    "with open('glove.twitter.27B.25d.txt', 'r', encoding= \"utf-8\") as f:\n",
    "    for line in f.readlines():\n",
    "        glove_dict[line.split()[0]] = np.array(line.split()[1:], dtype=np.float32)\n",
    "\n",
    "\n"
   ]
  },
  {
   "cell_type": "code",
   "execution_count": 111,
   "metadata": {},
   "outputs": [
    {
     "name": "stdout",
     "output_type": "stream",
     "text": [
      "0.065581\n"
     ]
    }
   ],
   "source": [
    "\n",
    "for word in glove_dict:\n",
    "    if len(glove_dict[word]) != 25:\n",
    "        print(word)"
   ]
  },
  {
   "cell_type": "markdown",
   "metadata": {},
   "source": [
    "### Problem 2.1\n",
    "Create clusters for each synset by finding the point that maximizes the cosine similarity of all the embeddings of the words in the synset. The resultant dictionary should contain a mapping between the synset ID and the optimal point."
   ]
  },
  {
   "cell_type": "code",
   "execution_count": 112,
   "metadata": {},
   "outputs": [],
   "source": [
    "def create_clusters(first_synset2word, glove_dict):\n",
    "    #cluster\n",
    "    clusters = {}\n",
    "    \"\"\" YOUR CODE HERE \"\"\"\n",
    "    for synset_id in first_synset2word:\n",
    "        #for each synset_id, we get a list of words in the synset\n",
    "        words_in_synset = list(first_synset2word[synset_id])\n",
    "        vectors = [glove_dict[word] for word in words_in_synset if word in glove_dict and word != '0.065581']\n",
    "        if len(vectors)>0:\n",
    "            dim = len(vectors[0])\n",
    "            A = np.concatenate(vectors)\n",
    "            A = A.reshape(dim, len(vectors))\n",
    "            SUM = np.sum(A, axis = 1)\n",
    "            MEAN = SUM/len(vectors)\n",
    "            clusters[synset_id] = MEAN\n",
    "    return clusters"
   ]
  },
  {
   "cell_type": "markdown",
   "metadata": {},
   "source": [
    "Below we have a few words outside of Wordnet's vocabulary. We'll check the most similar synset from the synset clusters."
   ]
  },
  {
   "cell_type": "code",
   "execution_count": 113,
   "metadata": {},
   "outputs": [
    {
     "name": "stdout",
     "output_type": "stream",
     "text": [
      "Closest synset to minigame: launchpad, launching_pad, launch_area, launch_pad\n",
      "Closest synset to grandmama: mammy\n",
      "Closest synset to nocebo: corpus_amygdaloideum, amygdala, amygdaloid_nucleus\n",
      "Closest synset to crazycatlady: chowchow\n",
      "Closest synset to blogoversary: fortnight, two_weeks\n",
      "Closest synset to self-motivation: imperturbability, coolness, imperturbableness\n",
      "Closest synset to bioshock: absolution\n",
      "Closest synset to horcrux: aloneness, lonesomeness\n",
      "Closest synset to pokemon: lego, lego_set\n",
      "Closest synset to allnighter: slacking, shirking, goofing_off, goldbricking\n",
      "Closest synset to belieber: ariana\n",
      "Closest synset to facebook: chirrup, twitter\n",
      "Closest synset to ransomware: dervish\n",
      "Closest synset to bokeh: pinhole\n",
      "Closest synset to crowdfunding: startup\n"
     ]
    }
   ],
   "source": [
    "out_of_wordnet = ['minigame', 'grandmama', 'nocebo', 'crazycatlady', 'blogoversary', 'self-motivation',\n",
    "                  'bioshock', 'horcrux', 'pokemon', 'allnighter', 'belieber', 'facebook', 'ransomware',\n",
    "                  'bokeh', 'crowdfunding']\n",
    "\n",
    "synset_clusters = create_clusters(first_synset2word, glove_dict)\n",
    "\n",
    "for word in out_of_wordnet:\n",
    "    dists = []\n",
    "    for key, val in synset_clusters.items():\n",
    "        dists.append((key, np.dot(glove_dict[word], val) / np.linalg.norm(val)))\n",
    "    closest = sorted(dists, key=lambda x: x[1], reverse=True)[0][0]\n",
    "    print('Closest synset to %s: %s' % (word, ', '.join(first_synset2word[closest])))"
   ]
  },
  {
   "cell_type": "markdown",
   "metadata": {},
   "source": [
    "## Problem 2.2\n",
    "Choose three of the above out of WordNet words and write a comment about each of them, answering the following questions: Was the most similar synset what you expected, or did it surprise you? Why do you think that synet was the most similar, based on what you know about WordNet, word embeddings, and the data that the embeddings were trained on?"
   ]
  },
  {
   "cell_type": "markdown",
   "metadata": {},
   "source": [
    "Was the most similar synset what you expected?\n",
    "\n",
    "In my opnion the most similar synset is twitter to facebook, and that doesn't suprprise me at all since twitter and facebook are both social media platforms.\n",
    "\n",
    "Why do you think that synet was the most similar, based on what you know about WordNet, word embeddings, and the data that the embeddings were trained on?\n",
    "\n",
    "The glove embeddings are trained on twitter data, and on twitter, people frequently like to talk about social media platforms and why \"twitter is better than facebook\" or vice versa.\n",
    "Also, this is related to embeddings being trained on contexts, so social media platforms are talked about in similar contexts. Also, they are both hyponyms of \"social media\" platforms."
   ]
  }
 ],
 "metadata": {
  "kernelspec": {
   "display_name": "Python 3",
   "language": "python",
   "name": "python3"
  },
  "language_info": {
   "codemirror_mode": {
    "name": "ipython",
    "version": 3
   },
   "file_extension": ".py",
   "mimetype": "text/x-python",
   "name": "python",
   "nbconvert_exporter": "python",
   "pygments_lexer": "ipython3",
   "version": "3.6.5"
  }
 },
 "nbformat": 4,
 "nbformat_minor": 2
}
